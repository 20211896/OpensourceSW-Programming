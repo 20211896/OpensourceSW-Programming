{
 "cells": [
  {
   "cell_type": "code",
   "execution_count": null,
   "metadata": {},
   "outputs": [],
   "source": [
    "DIAL_CODES = [\n",
    "    (86,'China'),\n",
    "    (91,'India'),\n",
    "    (1,'United States'),\n",
    "    (55,'Brazil'),\n",
    "    (7,'Russia'),\n",
    "]"
   ]
  },
  {
   "cell_type": "code",
   "execution_count": null,
   "metadata": {},
   "outputs": [],
   "source": [
    "country_code = {country: code for code, country in DIAL_CODES}\n",
    "country_code"
   ]
  }
 ],
 "metadata": {
  "language_info": {
   "name": "python"
  }
 },
 "nbformat": 4,
 "nbformat_minor": 2
}
