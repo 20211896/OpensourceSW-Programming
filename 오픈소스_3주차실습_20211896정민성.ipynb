{
  "cells": [
    {
      "cell_type": "code",
      "execution_count": 1,
      "metadata": {
        "colab": {
          "base_uri": "https://localhost:8080/"
        },
        "id": "e_rWNB7XHzGR",
        "outputId": "8acff17c-efab-40dd-f389-d0ff82aa9f1c"
      },
      "outputs": [
        {
          "output_type": "stream",
          "name": "stdout",
          "text": [
            "[36, 42, 38, 33, 64]\n"
          ]
        }
      ],
      "source": [
        "symbols = \"$*&!@\"\n",
        "\n",
        "codes = []\n",
        "\n",
        "for symbol in symbols:\n",
        "  codes.append(ord(symbol))\n",
        "\n",
        "print(codes)"
      ]
    },
    {
      "cell_type": "code",
      "execution_count": 2,
      "metadata": {
        "colab": {
          "base_uri": "https://localhost:8080/"
        },
        "id": "3Rje3QKiIEbd",
        "outputId": "306d7ddb-108d-415c-c4fc-2d5a89ba8c21"
      },
      "outputs": [
        {
          "output_type": "stream",
          "name": "stdout",
          "text": [
            "[36, 42, 38, 33, 64]\n"
          ]
        }
      ],
      "source": [
        "symbols = \"$*&!@\"\n",
        "\n",
        "codes = [ord(symbol) for symbol in symbols]\n",
        "\n",
        "print(codes)"
      ]
    },
    {
      "cell_type": "code",
      "execution_count": 3,
      "metadata": {
        "colab": {
          "base_uri": "https://localhost:8080/"
        },
        "id": "SUe0PvsGIJ4d",
        "outputId": "f8f1ca5e-f748-410f-fe86-465981ac7637"
      },
      "outputs": [
        {
          "output_type": "stream",
          "name": "stdout",
          "text": [
            "\"!~$$*&!@\n",
            "[34, 33, 126, 36, 36, 42, 38, 33, 64]\n"
          ]
        }
      ],
      "source": [
        "x = '\"!~$$*&!@'\n",
        "dummy = [ord(x) for x in x]\n",
        "\n",
        "print(x)\n",
        "print(dummy)"
      ]
    },
    {
      "cell_type": "code",
      "execution_count": 4,
      "metadata": {
        "colab": {
          "base_uri": "https://localhost:8080/"
        },
        "id": "DgC4r6xhISml",
        "outputId": "83e057d4-2455-4854-cfb2-8bdfa8984750"
      },
      "outputs": [
        {
          "output_type": "stream",
          "name": "stdout",
          "text": [
            "[34, 33, 126, 36, 36, 42, 38, 33, 64]\n"
          ]
        }
      ],
      "source": [
        "symbols = '\"!~$$*&!@'\n",
        "beyond_ascii = [ord(s) for s in symbols if ord(s) > 32]\n",
        "\n",
        "print(beyond_ascii)"
      ]
    },
    {
      "cell_type": "code",
      "execution_count": 150,
      "metadata": {
        "colab": {
          "base_uri": "https://localhost:8080/"
        },
        "id": "hnWjB91dIbyE",
        "outputId": "f6b46f62-3ea5-4e4f-d781-11950b394fc0"
      },
      "outputs": [
        {
          "output_type": "stream",
          "name": "stdout",
          "text": [
            "[126] \n",
            "\n",
            "Map function:\n",
            ">>> <map object at 0x7c79e23e7a30>\n",
            "List after map:\n",
            ">>> [34, 33, 126, 36, 36, 42, 38, 33, 64]\n"
          ]
        }
      ],
      "source": [
        "symbols = '\"!~$$*&!@'\n",
        "beyond_ascii = list(filter(lambda c: c>64, map(ord, symbols)))\n",
        "\n",
        "print(beyond_ascii, '\\n')\n",
        "\n",
        "print(f\"Map function:\\n>>> {map(ord, symbols)}\")\n",
        "print(f\"List after map:\\n>>> {list(map(ord, symbols))}\")"
      ]
    },
    {
      "cell_type": "code",
      "execution_count": 6,
      "metadata": {
        "colab": {
          "base_uri": "https://localhost:8080/"
        },
        "id": "lLuOh1GcIwdN",
        "outputId": "11572b9b-d3c7-4ceb-a410-e3bc2f8f7756"
      },
      "outputs": [
        {
          "output_type": "stream",
          "name": "stdout",
          "text": [
            "[('black', 'S'), ('black', 'M'), ('black', 'L'), ('white', 'S'), ('white', 'M'), ('white', 'L')]\n",
            "('black', 'S')\n",
            "('black', 'M')\n",
            "('black', 'L')\n",
            "('white', 'S')\n",
            "('white', 'M')\n",
            "('white', 'L')\n"
          ]
        }
      ],
      "source": [
        "colors = ['black', 'white']\n",
        "sizes = ['S', 'M', 'L']\n",
        "tshirts = [(color, size) for color in colors for size in sizes]\n",
        "\n",
        "print(tshirts)\n",
        "\n",
        "for color in colors:\n",
        "  for size in sizes:\n",
        "    print((color, size))"
      ]
    },
    {
      "cell_type": "code",
      "execution_count": 7,
      "metadata": {
        "colab": {
          "base_uri": "https://localhost:8080/"
        },
        "id": "I0pnHYK9I-11",
        "outputId": "206ca0c5-b754-4293-f940-10e59308766a"
      },
      "outputs": [
        {
          "output_type": "stream",
          "name": "stdout",
          "text": [
            "(33, 35, 94, 38, 38, 35)\n"
          ]
        }
      ],
      "source": [
        "symbols = '!#^&&#'\n",
        "ord_s = tuple(ord(s) for s in symbols if ord(s))\n",
        "\n",
        "print(ord_s)"
      ]
    },
    {
      "cell_type": "code",
      "execution_count": 8,
      "metadata": {
        "colab": {
          "base_uri": "https://localhost:8080/"
        },
        "id": "Xs3Iz7f4JMTF",
        "outputId": "9752f688-f5d9-45f5-ab8a-e17e825f6df6"
      },
      "outputs": [
        {
          "output_type": "stream",
          "name": "stdout",
          "text": [
            "array('I', [33, 35, 94, 38, 38, 35])\n"
          ]
        }
      ],
      "source": [
        "import array\n",
        "\n",
        "ord_s = array.array('I', (ord(symbol) for symbol in symbols))\n",
        "\n",
        "print(ord_s)"
      ]
    },
    {
      "cell_type": "code",
      "execution_count": 9,
      "metadata": {
        "colab": {
          "base_uri": "https://localhost:8080/"
        },
        "id": "bLSVLfuTJS6U",
        "outputId": "65923744-a003-45d9-dbb2-66b93784dd8a"
      },
      "outputs": [
        {
          "output_type": "stream",
          "name": "stdout",
          "text": [
            "black S\n",
            "white S\n",
            "black M\n",
            "white M\n",
            "black L\n",
            "white L\n"
          ]
        }
      ],
      "source": [
        "colors = ['black', 'white']\n",
        "sizes = ['S', 'M', 'L']\n",
        "\n",
        "for tshirt in ('{} {}'.format(c, s) for s in sizes for c in colors):\n",
        "  print(tshirt)"
      ]
    },
    {
      "cell_type": "code",
      "execution_count": 10,
      "metadata": {
        "colab": {
          "base_uri": "https://localhost:8080/"
        },
        "id": "e9OVO2woJeHM",
        "outputId": "dde7543f-5e8e-44aa-fb46-1da64d19dd49"
      },
      "outputs": [
        {
          "output_type": "stream",
          "name": "stdout",
          "text": [
            "BRA/CE342567\n",
            "BRA/CE342567\n",
            "BRA/CE342567\n",
            "ESP/XDA205856\n",
            "ESP/XDA205856\n",
            "ESP/XDA205856\n",
            "USA/31195855\n",
            "USA/31195855\n",
            "USA/31195855\n"
          ]
        }
      ],
      "source": [
        "lax_coordinates = {33.9425, -118.408056}\n",
        "city, year, pop, chg, area = {'Tokyo', 2003, 32450, 0.66, 8014}\n",
        "travler_ids = [('USA', '31195855'),\n",
        "                ('BRA', 'CE342567'),\n",
        "                ('ESP', 'XDA205856')]\n",
        "\n",
        "for passport in sorted(travler_ids):\n",
        "  print('%s/%s' %passport)\n",
        "  print('{}/{}'.format(passport[0],passport[1]))\n",
        "  print(f'{passport[0]}/{passport[1]}')"
      ]
    },
    {
      "cell_type": "code",
      "execution_count": 11,
      "metadata": {
        "colab": {
          "base_uri": "https://localhost:8080/"
        },
        "id": "4oqiyGOtKEId",
        "outputId": "f8af9191-113f-473f-b094-623190ab0914"
      },
      "outputs": [
        {
          "output_type": "stream",
          "name": "stdout",
          "text": [
            "USA\n",
            "BRA\n",
            "ESP\n"
          ]
        }
      ],
      "source": [
        "for country, _ in travler_ids:\n",
        "  print(country)"
      ]
    },
    {
      "cell_type": "code",
      "execution_count": 12,
      "metadata": {
        "colab": {
          "base_uri": "https://localhost:8080/"
        },
        "id": "brDZ2W3oKH8k",
        "outputId": "d8fef154-24e3-4863-de75-04da1e102fb4"
      },
      "outputs": [
        {
          "output_type": "stream",
          "name": "stdout",
          "text": [
            "33.9425\n",
            "-118.408056\n"
          ]
        }
      ],
      "source": [
        "lax_coordinates = {33.9425, -118.408056}\n",
        "latitude, longtitude = lax_coordinates\n",
        "print(latitude)\n",
        "print(longtitude)"
      ]
    },
    {
      "cell_type": "code",
      "execution_count": 13,
      "metadata": {
        "colab": {
          "base_uri": "https://localhost:8080/"
        },
        "id": "sApMO0yXKQG8",
        "outputId": "1a7a852f-823a-430e-f827-dcf7dbf723c3"
      },
      "outputs": [
        {
          "output_type": "stream",
          "name": "stdout",
          "text": [
            "20 10\n"
          ]
        }
      ],
      "source": [
        "a=10; b=20\n",
        "b, a = a, b\n",
        "print(a, b)"
      ]
    },
    {
      "cell_type": "code",
      "execution_count": 47,
      "metadata": {
        "colab": {
          "base_uri": "https://localhost:8080/"
        },
        "id": "xRu4T7wfKVRU",
        "outputId": "b196fec0-cff9-49cf-8d2d-658a67ae360e"
      },
      "outputs": [
        {
          "output_type": "execute_result",
          "data": {
            "text/plain": [
              "(2, 4)"
            ]
          },
          "metadata": {},
          "execution_count": 47
        }
      ],
      "source": [
        "divmod(20, 8)\n"
      ]
    },
    {
      "cell_type": "code",
      "source": [
        "t= (20, 8)\n",
        "divmod(*t)\n"
      ],
      "metadata": {
        "colab": {
          "base_uri": "https://localhost:8080/"
        },
        "id": "GehWW3BuJ6M4",
        "outputId": "7ceb2e04-1ddc-4bb2-9254-d8b8503c03d6"
      },
      "execution_count": 48,
      "outputs": [
        {
          "output_type": "execute_result",
          "data": {
            "text/plain": [
              "(2, 4)"
            ]
          },
          "metadata": {},
          "execution_count": 48
        }
      ]
    },
    {
      "cell_type": "code",
      "source": [
        "quotient, remainder = divmod(*t)\n",
        "quotient, remainder"
      ],
      "metadata": {
        "colab": {
          "base_uri": "https://localhost:8080/"
        },
        "id": "7Ezu3iBzJ72n",
        "outputId": "9f010e31-d5d0-4f17-caf4-5bc692839a65"
      },
      "execution_count": 49,
      "outputs": [
        {
          "output_type": "execute_result",
          "data": {
            "text/plain": [
              "(2, 4)"
            ]
          },
          "metadata": {},
          "execution_count": 49
        }
      ]
    },
    {
      "cell_type": "code",
      "execution_count": 15,
      "metadata": {
        "colab": {
          "base_uri": "https://localhost:8080/",
          "height": 35
        },
        "id": "Z-4v_CREK2ME",
        "outputId": "2346e3a2-a74d-46e6-88df-6cb06ba7b1ff"
      },
      "outputs": [
        {
          "output_type": "execute_result",
          "data": {
            "text/plain": [
              "'idrsa.pub'"
            ],
            "application/vnd.google.colaboratory.intrinsic+json": {
              "type": "string"
            }
          },
          "metadata": {},
          "execution_count": 15
        }
      ],
      "source": [
        "import os\n",
        "\n",
        "_, filename = os.path.split('/home/luciano/.ssh/idrsa.pub')\n",
        "filename"
      ]
    },
    {
      "cell_type": "code",
      "execution_count": 50,
      "metadata": {
        "colab": {
          "base_uri": "https://localhost:8080/"
        },
        "id": "1IMVIM5uLBzk",
        "outputId": "45014c4e-7dd4-4497-e5df-aca5eb0cf6a2"
      },
      "outputs": [
        {
          "output_type": "execute_result",
          "data": {
            "text/plain": [
              "(0, 1, [2, 3, 4])"
            ]
          },
          "metadata": {},
          "execution_count": 50
        }
      ],
      "source": [
        "a, b, *rest = range(5)\n",
        "a, b, rest"
      ]
    },
    {
      "cell_type": "code",
      "source": [
        "a, b, *rest = range(3)\n",
        "a, b, rest"
      ],
      "metadata": {
        "colab": {
          "base_uri": "https://localhost:8080/"
        },
        "id": "fS2Ph6pnKfHm",
        "outputId": "8eac53c4-94cf-4d09-f7c2-a35a9064d884"
      },
      "execution_count": 51,
      "outputs": [
        {
          "output_type": "execute_result",
          "data": {
            "text/plain": [
              "(0, 1, [2])"
            ]
          },
          "metadata": {},
          "execution_count": 51
        }
      ]
    },
    {
      "cell_type": "code",
      "source": [
        "a, b, *rest = range(2)\n",
        "a, b, rest"
      ],
      "metadata": {
        "colab": {
          "base_uri": "https://localhost:8080/"
        },
        "id": "Eld_IkrGKe6v",
        "outputId": "ecbf1f50-8cfa-4720-998d-57d23ed65f42"
      },
      "execution_count": 52,
      "outputs": [
        {
          "output_type": "execute_result",
          "data": {
            "text/plain": [
              "(0, 1, [])"
            ]
          },
          "metadata": {},
          "execution_count": 52
        }
      ]
    },
    {
      "cell_type": "code",
      "execution_count": 53,
      "metadata": {
        "colab": {
          "base_uri": "https://localhost:8080/"
        },
        "id": "YOlkAmdtLIqs",
        "outputId": "f6cd6ab8-db1e-4bfe-8eeb-acf750a911a2"
      },
      "outputs": [
        {
          "output_type": "execute_result",
          "data": {
            "text/plain": [
              "(0, [1, 2], 3, 4)"
            ]
          },
          "metadata": {},
          "execution_count": 53
        }
      ],
      "source": [
        "a, *body, c, d = range(5)\n",
        "a, body, c, d\n"
      ]
    },
    {
      "cell_type": "code",
      "source": [
        "*head, b, c, d = range(5)\n",
        "head, b, c, d"
      ],
      "metadata": {
        "colab": {
          "base_uri": "https://localhost:8080/"
        },
        "id": "LbrIBAy5Kkn_",
        "outputId": "3addae88-1609-48ea-d5d4-bfa24144ae61"
      },
      "execution_count": 54,
      "outputs": [
        {
          "output_type": "execute_result",
          "data": {
            "text/plain": [
              "([0, 1], 2, 3, 4)"
            ]
          },
          "metadata": {},
          "execution_count": 54
        }
      ]
    },
    {
      "cell_type": "code",
      "execution_count": 18,
      "metadata": {
        "colab": {
          "base_uri": "https://localhost:8080/"
        },
        "id": "z2kYu3eVLSEF",
        "outputId": "1862bdec-0faf-45d9-af01-19cfb54a8ad6"
      },
      "outputs": [
        {
          "output_type": "stream",
          "name": "stdout",
          "text": [
            "                I   lat.    I   long.  \n",
            "Mexico City     I   19.0000 I  -99.0000\n",
            "New York-Newark I   40.0000 I  -74.0000\n",
            "Sao Paulo       I  -23.0000 I  -46.0000\n"
          ]
        }
      ],
      "source": [
        "metro_areas = [\n",
        "    (\"Tokyo\", \"JP\", 36.933, (35, 139)),\n",
        "    (\"Delhi NCR\", \"IN\", 21, (28, 77)),\n",
        "    (\"Mexico City\", \"MX\", 20, (19, -99)),\n",
        "    (\"New York-Newark\", \"US\", 20, (40, -74)),\n",
        "    (\"Sao Paulo\", \"BR\", 19, (-23, -46))\n",
        "]\n",
        "\n",
        "print(\"{:15} I {:^9} I {:^9}\".format('', 'lat.', 'long.'))\n",
        "fmt = \"{:15} I {:9.4f} I {:9.4f}\"\n",
        "\n",
        "for name, cc, pop, (lat, longi) in metro_areas:\n",
        "  if longi <= 0:\n",
        "    print(fmt.format(name, lat, longi))"
      ]
    },
    {
      "cell_type": "code",
      "execution_count": 55,
      "metadata": {
        "colab": {
          "base_uri": "https://localhost:8080/"
        },
        "id": "_H2w6A_tMLVs",
        "outputId": "374102d7-78c3-43a3-87b0-abcd9b037c1f"
      },
      "outputs": [
        {
          "output_type": "execute_result",
          "data": {
            "text/plain": [
              "City(name='Tokyo', country='JP', population=36.933, coordinates=(35.689, 139.691))"
            ]
          },
          "metadata": {},
          "execution_count": 55
        }
      ],
      "source": [
        "from collections import namedtuple\n",
        "City = namedtuple('City', 'name country population coordinates')\n",
        "tokyo =  City('Tokyo', 'JP', 36.933, (35.689, 139.691))\n",
        "tokyo\n"
      ]
    },
    {
      "cell_type": "code",
      "source": [
        "tokyo.population\n"
      ],
      "metadata": {
        "colab": {
          "base_uri": "https://localhost:8080/"
        },
        "id": "KCT6U0sOKpwe",
        "outputId": "40abe9c5-ce40-4946-b376-2a287ca33194"
      },
      "execution_count": 56,
      "outputs": [
        {
          "output_type": "execute_result",
          "data": {
            "text/plain": [
              "36.933"
            ]
          },
          "metadata": {},
          "execution_count": 56
        }
      ]
    },
    {
      "cell_type": "code",
      "source": [
        "tokyo.coordinates\n"
      ],
      "metadata": {
        "colab": {
          "base_uri": "https://localhost:8080/"
        },
        "id": "dF9YcbDXKphQ",
        "outputId": "d0511c05-4f94-493d-ce6f-311e4fd9b519"
      },
      "execution_count": 57,
      "outputs": [
        {
          "output_type": "execute_result",
          "data": {
            "text/plain": [
              "(35.689, 139.691)"
            ]
          },
          "metadata": {},
          "execution_count": 57
        }
      ]
    },
    {
      "cell_type": "code",
      "source": [
        "tokyo[1]"
      ],
      "metadata": {
        "colab": {
          "base_uri": "https://localhost:8080/",
          "height": 35
        },
        "id": "eQJnw3zBKsDn",
        "outputId": "6378a09d-65a2-4dac-a97b-91a4dfcdecb3"
      },
      "execution_count": 58,
      "outputs": [
        {
          "output_type": "execute_result",
          "data": {
            "text/plain": [
              "'JP'"
            ],
            "application/vnd.google.colaboratory.intrinsic+json": {
              "type": "string"
            }
          },
          "metadata": {},
          "execution_count": 58
        }
      ]
    },
    {
      "cell_type": "code",
      "execution_count": 59,
      "metadata": {
        "colab": {
          "base_uri": "https://localhost:8080/"
        },
        "id": "OvHiPEzZMcD1",
        "outputId": "4592c75c-caef-4c8b-f133-aedb080febe5"
      },
      "outputs": [
        {
          "output_type": "execute_result",
          "data": {
            "text/plain": [
              "('name', 'country', 'population', 'coordinates')"
            ]
          },
          "metadata": {},
          "execution_count": 59
        }
      ],
      "source": [
        "City._fields\n"
      ]
    },
    {
      "cell_type": "code",
      "source": [
        "LatLong = namedtuple('Latlong', 'lat long')\n",
        "delhi_data = (\"Delhi NCR\", \"IN\", 21.935, (28.613, 77.208))"
      ],
      "metadata": {
        "id": "ZEGazQC2Kyx3"
      },
      "execution_count": 66,
      "outputs": []
    },
    {
      "cell_type": "code",
      "source": [
        "delhi = City._make(delhi_data)\n",
        "delhi._asdict()"
      ],
      "metadata": {
        "colab": {
          "base_uri": "https://localhost:8080/"
        },
        "id": "Xb7OYoP5Kyku",
        "outputId": "9c865371-3911-4ffc-ed3e-20f79dbbb83b"
      },
      "execution_count": 67,
      "outputs": [
        {
          "output_type": "execute_result",
          "data": {
            "text/plain": [
              "{'name': 'Delhi NCR',\n",
              " 'country': 'IN',\n",
              " 'population': 21.935,\n",
              " 'coordinates': (28.613, 77.208)}"
            ]
          },
          "metadata": {},
          "execution_count": 67
        }
      ]
    },
    {
      "cell_type": "code",
      "source": [
        "for key, value in delhi._asdict().items():\n",
        "  print(key + ':', value)"
      ],
      "metadata": {
        "colab": {
          "base_uri": "https://localhost:8080/"
        },
        "id": "p2pwR9kkKxrn",
        "outputId": "9a93cd79-1d8f-4fe1-8d28-f0087c8b9806"
      },
      "execution_count": 68,
      "outputs": [
        {
          "output_type": "stream",
          "name": "stdout",
          "text": [
            "name: Delhi NCR\n",
            "country: IN\n",
            "population: 21.935\n",
            "coordinates: (28.613, 77.208)\n"
          ]
        }
      ]
    },
    {
      "cell_type": "code",
      "execution_count": 72,
      "metadata": {
        "colab": {
          "base_uri": "https://localhost:8080/"
        },
        "id": "Y3BKs3cJMzrW",
        "outputId": "1ab03eb2-c9f1-4523-b170-e6a397434805"
      },
      "outputs": [
        {
          "output_type": "execute_result",
          "data": {
            "text/plain": [
              "[10, 20]"
            ]
          },
          "metadata": {},
          "execution_count": 72
        }
      ],
      "source": [
        "l = [10, 20, 30, 40, 50, 60]\n",
        "l[:2]"
      ]
    },
    {
      "cell_type": "code",
      "source": [
        "l[2:]"
      ],
      "metadata": {
        "colab": {
          "base_uri": "https://localhost:8080/"
        },
        "id": "dHUxEV0eLN9Q",
        "outputId": "8724cc49-36a3-47d6-9ebd-df76a318b1d4"
      },
      "execution_count": 73,
      "outputs": [
        {
          "output_type": "execute_result",
          "data": {
            "text/plain": [
              "[30, 40, 50, 60]"
            ]
          },
          "metadata": {},
          "execution_count": 73
        }
      ]
    },
    {
      "cell_type": "code",
      "source": [
        "l[:3]"
      ],
      "metadata": {
        "colab": {
          "base_uri": "https://localhost:8080/"
        },
        "id": "Tq0mtG0mLNkx",
        "outputId": "f8148df5-4243-45ec-8ff0-b7f30dcbc106"
      },
      "execution_count": 74,
      "outputs": [
        {
          "output_type": "execute_result",
          "data": {
            "text/plain": [
              "[10, 20, 30]"
            ]
          },
          "metadata": {},
          "execution_count": 74
        }
      ]
    },
    {
      "cell_type": "code",
      "source": [
        "l[3:]"
      ],
      "metadata": {
        "colab": {
          "base_uri": "https://localhost:8080/"
        },
        "id": "8GjglGS_LNe_",
        "outputId": "5ce46d0a-75e2-40a6-9d46-eaacac80e350"
      },
      "execution_count": 75,
      "outputs": [
        {
          "output_type": "execute_result",
          "data": {
            "text/plain": [
              "[40, 50, 60]"
            ]
          },
          "metadata": {},
          "execution_count": 75
        }
      ]
    },
    {
      "cell_type": "code",
      "execution_count": 22,
      "metadata": {
        "colab": {
          "base_uri": "https://localhost:8080/"
        },
        "id": "KhWO0_UZM3H0",
        "outputId": "d0a54989-98eb-4950-dcd4-e74616ac05cd"
      },
      "outputs": [
        {
          "output_type": "stream",
          "name": "stdout",
          "text": [
            "   $17.5 pimoroni           \n",
            "   $4.95 6mm Tactile        \n",
            " \n"
          ]
        }
      ],
      "source": [
        "invoice = \"\"\"\n",
        "0.....6..................25.......33......40........\n",
        "1909  pimoroni              $17.50   3     $52.50\n",
        "1489  6mm Tactile           $4.95    2     $9.90\n",
        "\"\"\"\n",
        "\n",
        "SKU = slice(0,6)\n",
        "DESCRIPTION = slice(6, 25)\n",
        "UNIT_PRICE = slice(25, 33)\n",
        "QUANTITY = slice(33, 40)\n",
        "ITEM_TOTAL = slice(40, None)\n",
        "\n",
        "line_items = invoice.split('\\n')[2:]\n",
        "\n",
        "for item in line_items:\n",
        "  print(item[UNIT_PRICE], item[DESCRIPTION])"
      ]
    },
    {
      "cell_type": "code",
      "execution_count": 76,
      "metadata": {
        "colab": {
          "base_uri": "https://localhost:8080/"
        },
        "id": "9JGrrDr6NqRk",
        "outputId": "2294d471-3739-4f70-8423-78e6d53f358c"
      },
      "outputs": [
        {
          "output_type": "execute_result",
          "data": {
            "text/plain": [
              "[0, 1, 2, 3, 4, 5, 6, 7, 8, 9]"
            ]
          },
          "metadata": {},
          "execution_count": 76
        }
      ],
      "source": [
        "l = list(range(10))\n",
        "l"
      ]
    },
    {
      "cell_type": "code",
      "source": [
        "l[2:5] = [20, 30]\n",
        "l"
      ],
      "metadata": {
        "colab": {
          "base_uri": "https://localhost:8080/"
        },
        "id": "glEzGL9-LYWG",
        "outputId": "8da3277a-2774-4493-ff7e-b9b000bbf341"
      },
      "execution_count": 77,
      "outputs": [
        {
          "output_type": "execute_result",
          "data": {
            "text/plain": [
              "[0, 1, 20, 30, 5, 6, 7, 8, 9]"
            ]
          },
          "metadata": {},
          "execution_count": 77
        }
      ]
    },
    {
      "cell_type": "code",
      "source": [
        "del l[5:7]\n",
        "l"
      ],
      "metadata": {
        "colab": {
          "base_uri": "https://localhost:8080/"
        },
        "id": "-Zw_vZFrLYP-",
        "outputId": "ef1cdeff-0593-4f08-cb15-e7846fc30f45"
      },
      "execution_count": 78,
      "outputs": [
        {
          "output_type": "execute_result",
          "data": {
            "text/plain": [
              "[0, 1, 20, 30, 5, 8, 9]"
            ]
          },
          "metadata": {},
          "execution_count": 78
        }
      ]
    },
    {
      "cell_type": "code",
      "source": [
        "l[3::2] = [11, 22]\n",
        "l"
      ],
      "metadata": {
        "colab": {
          "base_uri": "https://localhost:8080/"
        },
        "id": "D0We3l04LYKG",
        "outputId": "c96be9e4-ce7e-4d85-c98b-abcac97abe4f"
      },
      "execution_count": 79,
      "outputs": [
        {
          "output_type": "execute_result",
          "data": {
            "text/plain": [
              "[0, 1, 20, 11, 5, 22, 9]"
            ]
          },
          "metadata": {},
          "execution_count": 79
        }
      ]
    },
    {
      "cell_type": "code",
      "execution_count": 24,
      "metadata": {
        "colab": {
          "base_uri": "https://localhost:8080/",
          "height": 147
        },
        "id": "0j8IynSRN07T",
        "outputId": "924833cc-a4fb-45e0-b790-ea07b4a82318"
      },
      "outputs": [
        {
          "output_type": "error",
          "ename": "TypeError",
          "evalue": "can only assign an iterable",
          "traceback": [
            "\u001b[0;31m---------------------------------------------------------------------------\u001b[0m",
            "\u001b[0;31mTypeError\u001b[0m                                 Traceback (most recent call last)",
            "\u001b[0;32m<ipython-input-24-da8b10461280>\u001b[0m in \u001b[0;36m<cell line: 1>\u001b[0;34m()\u001b[0m\n\u001b[0;32m----> 1\u001b[0;31m \u001b[0ml\u001b[0m\u001b[0;34m[\u001b[0m\u001b[0;36m2\u001b[0m\u001b[0;34m:\u001b[0m\u001b[0;36m5\u001b[0m\u001b[0;34m]\u001b[0m \u001b[0;34m=\u001b[0m \u001b[0;36m100\u001b[0m\u001b[0;34m\u001b[0m\u001b[0;34m\u001b[0m\u001b[0m\n\u001b[0m",
            "\u001b[0;31mTypeError\u001b[0m: can only assign an iterable"
          ]
        }
      ],
      "source": [
        "l[2:5] = 100"
      ]
    },
    {
      "cell_type": "code",
      "execution_count": 25,
      "metadata": {
        "colab": {
          "base_uri": "https://localhost:8080/"
        },
        "id": "0igTMyOJN31T",
        "outputId": "8d367b56-cf6c-4550-eddf-4eee93c24c29"
      },
      "outputs": [
        {
          "output_type": "execute_result",
          "data": {
            "text/plain": [
              "[0, 1, 100, 22, 9]"
            ]
          },
          "metadata": {},
          "execution_count": 25
        }
      ],
      "source": [
        "l[2:5] = [100]\n",
        "l"
      ]
    },
    {
      "cell_type": "code",
      "execution_count": 26,
      "metadata": {
        "colab": {
          "base_uri": "https://localhost:8080/"
        },
        "id": "D__FFT5CN6tj",
        "outputId": "92e10395-252a-48ef-db4d-d4c95ecbdcc0"
      },
      "outputs": [
        {
          "output_type": "execute_result",
          "data": {
            "text/plain": [
              "[1, 2, 3, 1, 2, 3, 1, 2, 3, 1, 2, 3, 1, 2, 3]"
            ]
          },
          "metadata": {},
          "execution_count": 26
        }
      ],
      "source": [
        "l = [1, 2, 3]\n",
        "l*5"
      ]
    },
    {
      "cell_type": "code",
      "source": [
        "5 * 'abcd'"
      ],
      "metadata": {
        "colab": {
          "base_uri": "https://localhost:8080/",
          "height": 35
        },
        "id": "Cpm3BYL9Ljvm",
        "outputId": "0a45e94d-c163-4829-a102-7f4a28038a31"
      },
      "execution_count": 80,
      "outputs": [
        {
          "output_type": "execute_result",
          "data": {
            "text/plain": [
              "'abcdabcdabcdabcdabcd'"
            ],
            "application/vnd.google.colaboratory.intrinsic+json": {
              "type": "string"
            }
          },
          "metadata": {},
          "execution_count": 80
        }
      ]
    },
    {
      "cell_type": "code",
      "execution_count": 81,
      "metadata": {
        "colab": {
          "base_uri": "https://localhost:8080/"
        },
        "id": "Bi7wPHdtOE7r",
        "outputId": "e032771c-dcde-4f70-9af6-3b55d3f15c1d"
      },
      "outputs": [
        {
          "output_type": "execute_result",
          "data": {
            "text/plain": [
              "[['_', '_', '_'], ['_', '_', '_'], ['_', '_', '_']]"
            ]
          },
          "metadata": {},
          "execution_count": 81
        }
      ],
      "source": [
        "board = [['_' ] *3 for i in range(3)]\n",
        "board\n"
      ]
    },
    {
      "cell_type": "code",
      "source": [
        "board[1][2] = 'X'\n",
        "board"
      ],
      "metadata": {
        "colab": {
          "base_uri": "https://localhost:8080/"
        },
        "id": "WFDkrzUCLnLl",
        "outputId": "5e0f3ab3-df9b-49c8-9b19-9046c0092909"
      },
      "execution_count": 82,
      "outputs": [
        {
          "output_type": "execute_result",
          "data": {
            "text/plain": [
              "[['_', '_', '_'], ['_', '_', 'X'], ['_', '_', '_']]"
            ]
          },
          "metadata": {},
          "execution_count": 82
        }
      ]
    },
    {
      "cell_type": "code",
      "execution_count": 83,
      "metadata": {
        "colab": {
          "base_uri": "https://localhost:8080/"
        },
        "id": "t_duIbSQN-Gb",
        "outputId": "e59b62e6-5101-4391-f120-c86c46a3627a"
      },
      "outputs": [
        {
          "output_type": "execute_result",
          "data": {
            "text/plain": [
              "[['_', '_', '_'], ['_', '_', '_'], ['_', '_', '_']]"
            ]
          },
          "metadata": {},
          "execution_count": 83
        }
      ],
      "source": [
        "weird_board = [['_']*3] *3\n",
        "weird_board\n"
      ]
    },
    {
      "cell_type": "code",
      "source": [
        "weird_board[1][2] = 'O'\n",
        "weird_board"
      ],
      "metadata": {
        "colab": {
          "base_uri": "https://localhost:8080/"
        },
        "id": "U58-LtPALqsW",
        "outputId": "d8115f6f-3d5b-4e62-f465-e4605c3b1a21"
      },
      "execution_count": 84,
      "outputs": [
        {
          "output_type": "execute_result",
          "data": {
            "text/plain": [
              "[['_', '_', 'O'], ['_', '_', 'O'], ['_', '_', 'O']]"
            ]
          },
          "metadata": {},
          "execution_count": 84
        }
      ]
    },
    {
      "cell_type": "code",
      "execution_count": 85,
      "metadata": {
        "colab": {
          "base_uri": "https://localhost:8080/"
        },
        "id": "DlnXaRFjOSQ7",
        "outputId": "1a611867-48ea-47a5-cf77-9b5428b6099b"
      },
      "outputs": [
        {
          "output_type": "execute_result",
          "data": {
            "text/plain": [
              "[['_', '_', 'X'], ['_', '_', 'X'], ['_', '_', 'X']]"
            ]
          },
          "metadata": {},
          "execution_count": 85
        }
      ],
      "source": [
        "row = ['_'] *3\n",
        "board = []\n",
        "for i in range(3):\n",
        "  board.append(row)\n",
        "\n",
        "board[1][2] = 'X'\n",
        "\n",
        "board"
      ]
    },
    {
      "cell_type": "code",
      "execution_count": 31,
      "metadata": {
        "colab": {
          "base_uri": "https://localhost:8080/"
        },
        "id": "C86S7oD1ObJ7",
        "outputId": "76a3fd1d-d2a5-4f1a-cad6-3068e779a60f"
      },
      "outputs": [
        {
          "output_type": "stream",
          "name": "stdout",
          "text": [
            "[['_', '_', '_'], ['_', '_', '_'], ['_', '_', '_']]\n"
          ]
        },
        {
          "output_type": "execute_result",
          "data": {
            "text/plain": [
              "[['_', '_', '_'], ['_', '_', '_'], ['X', '_', '_']]"
            ]
          },
          "metadata": {},
          "execution_count": 31
        }
      ],
      "source": [
        "board = []\n",
        "for i in range(3):\n",
        "  row = ['_'] *3\n",
        "  board.append(row)\n",
        "\n",
        "print(board)\n",
        "\n",
        "board[2][0] = 'X'\n",
        "\n",
        "board"
      ]
    },
    {
      "cell_type": "code",
      "execution_count": 86,
      "metadata": {
        "colab": {
          "base_uri": "https://localhost:8080/"
        },
        "id": "Axv6gGhMOj8r",
        "outputId": "64067d21-e204-4843-ff7b-69f4995d4a9b"
      },
      "outputs": [
        {
          "output_type": "execute_result",
          "data": {
            "text/plain": [
              "136863397666624"
            ]
          },
          "metadata": {},
          "execution_count": 86
        }
      ],
      "source": [
        "l = [1, 2, 3]\n",
        "id(l)\n"
      ]
    },
    {
      "cell_type": "code",
      "source": [
        "l*= 2\n",
        "l"
      ],
      "metadata": {
        "colab": {
          "base_uri": "https://localhost:8080/"
        },
        "id": "tR2ipfkMLudW",
        "outputId": "332551ab-9bba-4258-ffe9-dba921dcf6a9"
      },
      "execution_count": 88,
      "outputs": [
        {
          "output_type": "execute_result",
          "data": {
            "text/plain": [
              "[1, 2, 3, 1, 2, 3, 1, 2, 3, 1, 2, 3]"
            ]
          },
          "metadata": {},
          "execution_count": 88
        }
      ]
    },
    {
      "cell_type": "code",
      "source": [
        "id(l)"
      ],
      "metadata": {
        "colab": {
          "base_uri": "https://localhost:8080/"
        },
        "id": "Jotz7kknLykX",
        "outputId": "c41a7a54-948e-46d3-87aa-935d25d8c27b"
      },
      "execution_count": 89,
      "outputs": [
        {
          "output_type": "execute_result",
          "data": {
            "text/plain": [
              "136863397666624"
            ]
          },
          "metadata": {},
          "execution_count": 89
        }
      ]
    },
    {
      "cell_type": "code",
      "execution_count": 90,
      "metadata": {
        "colab": {
          "base_uri": "https://localhost:8080/"
        },
        "id": "K6eMzmb5Oobj",
        "outputId": "cfdad5bc-ee42-46a9-d214-31e4ca3a0c58"
      },
      "outputs": [
        {
          "output_type": "execute_result",
          "data": {
            "text/plain": [
              "136862928023744"
            ]
          },
          "metadata": {},
          "execution_count": 90
        }
      ],
      "source": [
        "t = (1, 2, 3)\n",
        "id(t)\n"
      ]
    },
    {
      "cell_type": "code",
      "source": [
        "t*=2\n",
        "id(t)"
      ],
      "metadata": {
        "colab": {
          "base_uri": "https://localhost:8080/"
        },
        "id": "bUGT-KPzL0Tm",
        "outputId": "ebc81303-bb80-4255-8a34-0c00c7d9d7dc"
      },
      "execution_count": 91,
      "outputs": [
        {
          "output_type": "execute_result",
          "data": {
            "text/plain": [
              "136863421351584"
            ]
          },
          "metadata": {},
          "execution_count": 91
        }
      ]
    },
    {
      "cell_type": "code",
      "execution_count": 35,
      "metadata": {
        "colab": {
          "base_uri": "https://localhost:8080/",
          "height": 239
        },
        "id": "mLEuWTX3OsW7",
        "outputId": "9035d56b-c6ab-4d45-bf96-263b0687982f"
      },
      "outputs": [
        {
          "output_type": "stream",
          "name": "stdout",
          "text": [
            "(1, 2, [30, 40])\n"
          ]
        },
        {
          "output_type": "error",
          "ename": "TypeError",
          "evalue": "'tuple' object does not support item assignment",
          "traceback": [
            "\u001b[0;31m---------------------------------------------------------------------------\u001b[0m",
            "\u001b[0;31mTypeError\u001b[0m                                 Traceback (most recent call last)",
            "\u001b[0;32m<ipython-input-35-6ff2a848c9cc>\u001b[0m in \u001b[0;36m<cell line: 4>\u001b[0;34m()\u001b[0m\n\u001b[1;32m      2\u001b[0m \u001b[0mprint\u001b[0m\u001b[0;34m(\u001b[0m\u001b[0mt\u001b[0m\u001b[0;34m)\u001b[0m\u001b[0;34m\u001b[0m\u001b[0;34m\u001b[0m\u001b[0m\n\u001b[1;32m      3\u001b[0m \u001b[0;34m\u001b[0m\u001b[0m\n\u001b[0;32m----> 4\u001b[0;31m \u001b[0mt\u001b[0m\u001b[0;34m[\u001b[0m\u001b[0;36m2\u001b[0m\u001b[0;34m]\u001b[0m \u001b[0;34m+=\u001b[0m \u001b[0;34m[\u001b[0m\u001b[0;36m50\u001b[0m\u001b[0;34m,\u001b[0m \u001b[0;36m60\u001b[0m\u001b[0;34m]\u001b[0m\u001b[0;34m\u001b[0m\u001b[0;34m\u001b[0m\u001b[0m\n\u001b[0m\u001b[1;32m      5\u001b[0m \u001b[0;34m\u001b[0m\u001b[0m\n\u001b[1;32m      6\u001b[0m \u001b[0mprint\u001b[0m\u001b[0;34m(\u001b[0m\u001b[0mt\u001b[0m\u001b[0;34m)\u001b[0m\u001b[0;34m\u001b[0m\u001b[0;34m\u001b[0m\u001b[0m\n",
            "\u001b[0;31mTypeError\u001b[0m: 'tuple' object does not support item assignment"
          ]
        }
      ],
      "source": [
        "t = (1, 2, [30, 40])\n",
        "print(t)\n",
        "\n",
        "t[2] += [50, 60]\n",
        "\n",
        "print(t)"
      ]
    },
    {
      "cell_type": "code",
      "execution_count": 92,
      "metadata": {
        "colab": {
          "base_uri": "https://localhost:8080/"
        },
        "id": "4rEGEZM9O4gM",
        "outputId": "75ee3e8a-6c97-41aa-f35d-24c22ed6a0fd"
      },
      "outputs": [
        {
          "output_type": "execute_result",
          "data": {
            "text/plain": [
              "['apple', 'banana', 'grape', 'raspberry']"
            ]
          },
          "metadata": {},
          "execution_count": 92
        }
      ],
      "source": [
        "fruits = ['grape', 'raspberry', 'apple', 'banana']\n",
        "sorted(fruits)\n"
      ]
    },
    {
      "cell_type": "code",
      "source": [
        "fruits"
      ],
      "metadata": {
        "colab": {
          "base_uri": "https://localhost:8080/"
        },
        "id": "4pa2y-4oL7sl",
        "outputId": "9d93dca5-ef25-4db6-8a51-b00e9b46c639"
      },
      "execution_count": 93,
      "outputs": [
        {
          "output_type": "execute_result",
          "data": {
            "text/plain": [
              "['grape', 'raspberry', 'apple', 'banana']"
            ]
          },
          "metadata": {},
          "execution_count": 93
        }
      ]
    },
    {
      "cell_type": "code",
      "source": [
        "sorted(fruits, reverse=True)\n"
      ],
      "metadata": {
        "colab": {
          "base_uri": "https://localhost:8080/"
        },
        "id": "tdYd70tZL7Zt",
        "outputId": "bf38113b-e63c-442b-8354-b651edb6e2a5"
      },
      "execution_count": 94,
      "outputs": [
        {
          "output_type": "execute_result",
          "data": {
            "text/plain": [
              "['raspberry', 'grape', 'banana', 'apple']"
            ]
          },
          "metadata": {},
          "execution_count": 94
        }
      ]
    },
    {
      "cell_type": "code",
      "source": [
        "sorted(fruits, key=len)"
      ],
      "metadata": {
        "colab": {
          "base_uri": "https://localhost:8080/"
        },
        "id": "0RvMUomZL7Qu",
        "outputId": "ed88bdf8-b2d9-4bc3-daa9-7724e6fcb83e"
      },
      "execution_count": 95,
      "outputs": [
        {
          "output_type": "execute_result",
          "data": {
            "text/plain": [
              "['grape', 'apple', 'banana', 'raspberry']"
            ]
          },
          "metadata": {},
          "execution_count": 95
        }
      ]
    },
    {
      "cell_type": "code",
      "execution_count": 96,
      "metadata": {
        "colab": {
          "base_uri": "https://localhost:8080/"
        },
        "id": "5ZCbezrVPEJb",
        "outputId": "e487220b-b381-445d-b8df-461b2ec9dcbd"
      },
      "outputs": [
        {
          "output_type": "execute_result",
          "data": {
            "text/plain": [
              "['raspberry', 'banana', 'grape', 'apple']"
            ]
          },
          "metadata": {},
          "execution_count": 96
        }
      ],
      "source": [
        "sorted(fruits, key=len, reverse=True)\n"
      ]
    },
    {
      "cell_type": "code",
      "source": [
        "fruits"
      ],
      "metadata": {
        "colab": {
          "base_uri": "https://localhost:8080/"
        },
        "id": "3LpjMkg5MBe-",
        "outputId": "be79793d-704a-4a3f-ed82-c6b92af59780"
      },
      "execution_count": 97,
      "outputs": [
        {
          "output_type": "execute_result",
          "data": {
            "text/plain": [
              "['grape', 'raspberry', 'apple', 'banana']"
            ]
          },
          "metadata": {},
          "execution_count": 97
        }
      ]
    },
    {
      "cell_type": "code",
      "source": [
        "fruits.sort()\n",
        "fruits"
      ],
      "metadata": {
        "colab": {
          "base_uri": "https://localhost:8080/"
        },
        "id": "1nAkIRskMBb2",
        "outputId": "1ab4cd14-ac4f-4b75-c9c3-4e0c0d7ee48c"
      },
      "execution_count": 98,
      "outputs": [
        {
          "output_type": "execute_result",
          "data": {
            "text/plain": [
              "['apple', 'banana', 'grape', 'raspberry']"
            ]
          },
          "metadata": {},
          "execution_count": 98
        }
      ]
    },
    {
      "cell_type": "code",
      "execution_count": 102,
      "metadata": {
        "colab": {
          "base_uri": "https://localhost:8080/"
        },
        "id": "FQ-P00IcPJgU",
        "outputId": "e3721d54-a4be-43c8-da16-45784a7de9e4"
      },
      "outputs": [
        {
          "output_type": "execute_result",
          "data": {
            "text/plain": [
              "0.9725206890190576"
            ]
          },
          "metadata": {},
          "execution_count": 102
        }
      ],
      "source": [
        "from array import array\n",
        "from random import random\n",
        "\n",
        "floats = array('d', (random() for _ in range(10**7)))\n",
        "floats[-1]"
      ]
    },
    {
      "cell_type": "code",
      "execution_count": 103,
      "metadata": {
        "colab": {
          "base_uri": "https://localhost:8080/"
        },
        "id": "tLowGmtGPRPk",
        "outputId": "77e2a9af-6ab7-4607-84aa-847e85905759"
      },
      "outputs": [
        {
          "output_type": "execute_result",
          "data": {
            "text/plain": [
              "0.9725206890190576"
            ]
          },
          "metadata": {},
          "execution_count": 103
        }
      ],
      "source": [
        "with open('floats.bin', 'wb') as f:\n",
        "  floats.tofile(f)\n",
        "\n",
        "floats2 = array('d')\n",
        "\n",
        "with open('floats.bin', 'rb') as f:\n",
        "  floats2.fromfile(f, 10**7)\n",
        "\n",
        "floats2[-1]"
      ]
    },
    {
      "cell_type": "code",
      "source": [
        "floats == floats2"
      ],
      "metadata": {
        "colab": {
          "base_uri": "https://localhost:8080/"
        },
        "id": "I9_l_f4HMGM2",
        "outputId": "5d3a5908-8d7b-49cd-8d8c-4c7a7648d103"
      },
      "execution_count": 104,
      "outputs": [
        {
          "output_type": "execute_result",
          "data": {
            "text/plain": [
              "True"
            ]
          },
          "metadata": {},
          "execution_count": 104
        }
      ]
    },
    {
      "cell_type": "code",
      "execution_count": 110,
      "metadata": {
        "colab": {
          "base_uri": "https://localhost:8080/"
        },
        "id": "morioSIQPkTz",
        "outputId": "cf4bfcc0-2f6f-408e-bfd6-c1143e981255"
      },
      "outputs": [
        {
          "output_type": "execute_result",
          "data": {
            "text/plain": [
              "5"
            ]
          },
          "metadata": {},
          "execution_count": 110
        }
      ],
      "source": [
        "import array\n",
        "numbers = array.array('h', [-2, -1, 0, 1, 2])\n",
        "memv = memoryview(numbers)\n",
        "len(memv)\n"
      ]
    },
    {
      "cell_type": "code",
      "source": [
        "memv[0]\n"
      ],
      "metadata": {
        "colab": {
          "base_uri": "https://localhost:8080/"
        },
        "id": "0C2axx9LMUiG",
        "outputId": "0a4ddf9b-3f14-4929-f10b-b46d58029ff9"
      },
      "execution_count": 106,
      "outputs": [
        {
          "output_type": "execute_result",
          "data": {
            "text/plain": [
              "-2"
            ]
          },
          "metadata": {},
          "execution_count": 106
        }
      ]
    },
    {
      "cell_type": "code",
      "source": [
        "memv_oct = memv.cast('B')\n",
        "memv_oct.tolist()"
      ],
      "metadata": {
        "colab": {
          "base_uri": "https://localhost:8080/"
        },
        "id": "BANQ5h5MMUTm",
        "outputId": "ff9337d8-bdfb-44ec-ed47-a7062a4cccd2"
      },
      "execution_count": 107,
      "outputs": [
        {
          "output_type": "execute_result",
          "data": {
            "text/plain": [
              "[254, 255, 255, 255, 0, 0, 1, 0, 2, 0]"
            ]
          },
          "metadata": {},
          "execution_count": 107
        }
      ]
    },
    {
      "cell_type": "code",
      "source": [
        "\n",
        "memv_oct[5] = 4\n",
        "numbers"
      ],
      "metadata": {
        "colab": {
          "base_uri": "https://localhost:8080/"
        },
        "id": "LAcbk-eNMX9e",
        "outputId": "6b3ee833-61e8-4f4e-9cbf-9748bffec6c5"
      },
      "execution_count": 108,
      "outputs": [
        {
          "output_type": "execute_result",
          "data": {
            "text/plain": [
              "array('h', [-2, -1, 1024, 1, 2])"
            ]
          },
          "metadata": {},
          "execution_count": 108
        }
      ]
    },
    {
      "cell_type": "code",
      "execution_count": 118,
      "metadata": {
        "colab": {
          "base_uri": "https://localhost:8080/"
        },
        "id": "WZjMkGrqPzFk",
        "outputId": "69592253-669f-4ca7-e238-4224cea4ff5c"
      },
      "outputs": [
        {
          "output_type": "execute_result",
          "data": {
            "text/plain": [
              "array([ 0,  1,  2,  3,  4,  5,  6,  7,  8,  9, 10, 11])"
            ]
          },
          "metadata": {},
          "execution_count": 118
        }
      ],
      "source": [
        "import numpy\n",
        "a = numpy.arange(12)\n",
        "a\n"
      ]
    },
    {
      "cell_type": "code",
      "source": [
        "type(a)"
      ],
      "metadata": {
        "colab": {
          "base_uri": "https://localhost:8080/"
        },
        "id": "oRLzsZ7sMin-",
        "outputId": "dbb26ddc-f335-461f-d548-157a65a93a12"
      },
      "execution_count": 119,
      "outputs": [
        {
          "output_type": "execute_result",
          "data": {
            "text/plain": [
              "numpy.ndarray"
            ]
          },
          "metadata": {},
          "execution_count": 119
        }
      ]
    },
    {
      "cell_type": "code",
      "execution_count": 120,
      "metadata": {
        "colab": {
          "base_uri": "https://localhost:8080/"
        },
        "id": "kf2naHEKP5ck",
        "outputId": "66d1c3e2-4bb4-4ac6-a438-8acc5a53e345"
      },
      "outputs": [
        {
          "output_type": "execute_result",
          "data": {
            "text/plain": [
              "(12,)"
            ]
          },
          "metadata": {},
          "execution_count": 120
        }
      ],
      "source": [
        "a.shape\n"
      ]
    },
    {
      "cell_type": "code",
      "source": [
        "a.shape = 3, 4\n",
        "a"
      ],
      "metadata": {
        "colab": {
          "base_uri": "https://localhost:8080/"
        },
        "id": "0WuMY3GhMfru",
        "outputId": "96235ce3-a378-48b9-83bc-e5fcb185ed4b"
      },
      "execution_count": 121,
      "outputs": [
        {
          "output_type": "execute_result",
          "data": {
            "text/plain": [
              "array([[ 0,  1,  2,  3],\n",
              "       [ 4,  5,  6,  7],\n",
              "       [ 8,  9, 10, 11]])"
            ]
          },
          "metadata": {},
          "execution_count": 121
        }
      ]
    },
    {
      "cell_type": "code",
      "execution_count": 122,
      "metadata": {
        "colab": {
          "base_uri": "https://localhost:8080/"
        },
        "id": "ZxKIa5gqP9ZD",
        "outputId": "d01079f4-4b74-4791-ebf0-23ab83e95547"
      },
      "outputs": [
        {
          "output_type": "execute_result",
          "data": {
            "text/plain": [
              "array([ 8,  9, 10, 11])"
            ]
          },
          "metadata": {},
          "execution_count": 122
        }
      ],
      "source": [
        "a[2]\n"
      ]
    },
    {
      "cell_type": "code",
      "source": [
        "a[2, 1]\n"
      ],
      "metadata": {
        "colab": {
          "base_uri": "https://localhost:8080/"
        },
        "id": "ln3pzPNUMqet",
        "outputId": "ed06b9c0-7aa0-449a-8648-2894b632eb25"
      },
      "execution_count": 123,
      "outputs": [
        {
          "output_type": "execute_result",
          "data": {
            "text/plain": [
              "9"
            ]
          },
          "metadata": {},
          "execution_count": 123
        }
      ]
    },
    {
      "cell_type": "code",
      "source": [
        "a[:,1]"
      ],
      "metadata": {
        "colab": {
          "base_uri": "https://localhost:8080/"
        },
        "id": "jvJyVlnyMqzN",
        "outputId": "f49cc497-08a2-4638-e5af-0bef6e0a82d0"
      },
      "execution_count": 124,
      "outputs": [
        {
          "output_type": "execute_result",
          "data": {
            "text/plain": [
              "array([1, 5, 9])"
            ]
          },
          "metadata": {},
          "execution_count": 124
        }
      ]
    },
    {
      "cell_type": "code",
      "execution_count": 125,
      "metadata": {
        "colab": {
          "base_uri": "https://localhost:8080/"
        },
        "id": "Jq96gO8SQBQD",
        "outputId": "102a4f72-4ed6-4ca3-cf2d-8989674b25e9"
      },
      "outputs": [
        {
          "output_type": "execute_result",
          "data": {
            "text/plain": [
              "array([[ 0,  4,  8],\n",
              "       [ 1,  5,  9],\n",
              "       [ 2,  6, 10],\n",
              "       [ 3,  7, 11]])"
            ]
          },
          "metadata": {},
          "execution_count": 125
        }
      ],
      "source": [
        "a.transpose()"
      ]
    },
    {
      "cell_type": "code",
      "execution_count": 138,
      "metadata": {
        "colab": {
          "base_uri": "https://localhost:8080/"
        },
        "id": "0JB-Afo8QC9L",
        "outputId": "cb4cac2d-5ea5-41e9-c88e-a4f243a3dd72"
      },
      "outputs": [
        {
          "output_type": "execute_result",
          "data": {
            "text/plain": [
              "deque([0, 1, 2, 3, 4, 5, 6, 7, 8, 9])"
            ]
          },
          "metadata": {},
          "execution_count": 138
        }
      ],
      "source": [
        "from collections import deque\n",
        "dq = deque(range(10), maxlen=10)\n",
        "dq\n"
      ]
    },
    {
      "cell_type": "code",
      "source": [
        "dq.rotate(3)\n",
        "dq\n"
      ],
      "metadata": {
        "colab": {
          "base_uri": "https://localhost:8080/"
        },
        "id": "jPpM5V5tMvou",
        "outputId": "58840db2-b537-486b-b81c-88f4aa60103c"
      },
      "execution_count": 139,
      "outputs": [
        {
          "output_type": "execute_result",
          "data": {
            "text/plain": [
              "deque([7, 8, 9, 0, 1, 2, 3, 4, 5, 6])"
            ]
          },
          "metadata": {},
          "execution_count": 139
        }
      ]
    },
    {
      "cell_type": "code",
      "source": [
        "dq.rotate(-4)\n",
        "dq"
      ],
      "metadata": {
        "colab": {
          "base_uri": "https://localhost:8080/"
        },
        "id": "qEp-1vyyMviN",
        "outputId": "af997f41-7902-4fd3-e47e-7746c3b358b2"
      },
      "execution_count": 140,
      "outputs": [
        {
          "output_type": "execute_result",
          "data": {
            "text/plain": [
              "deque([1, 2, 3, 4, 5, 6, 7, 8, 9, 0])"
            ]
          },
          "metadata": {},
          "execution_count": 140
        }
      ]
    },
    {
      "cell_type": "code",
      "execution_count": 148,
      "metadata": {
        "colab": {
          "base_uri": "https://localhost:8080/"
        },
        "id": "odVZQ7_6QMj1",
        "outputId": "941fea95-9018-4ce0-869c-69b871a9318e"
      },
      "outputs": [
        {
          "output_type": "execute_result",
          "data": {
            "text/plain": [
              "deque([-1, 20, 10, 40, 30, 11, 22, 33, 11, 22])"
            ]
          },
          "metadata": {},
          "execution_count": 148
        }
      ],
      "source": [
        "dq.appendleft(-1)\n",
        "dq\n"
      ]
    },
    {
      "cell_type": "code",
      "source": [
        "dq.extend([11,22,33])\n",
        "dq"
      ],
      "metadata": {
        "colab": {
          "base_uri": "https://localhost:8080/"
        },
        "id": "lWyeTYQgNEzm",
        "outputId": "63cde1a2-3b03-4e44-e655-a3ccd459fd23"
      },
      "execution_count": 147,
      "outputs": [
        {
          "output_type": "execute_result",
          "data": {
            "text/plain": [
              "deque([20, 10, 40, 30, 11, 22, 33, 11, 22, 33])"
            ]
          },
          "metadata": {},
          "execution_count": 147
        }
      ]
    },
    {
      "cell_type": "code",
      "source": [
        "dq.extendleft([10, 20, 30, 40])\n",
        "dq"
      ],
      "metadata": {
        "colab": {
          "base_uri": "https://localhost:8080/"
        },
        "id": "WUbFa90pNE--",
        "outputId": "f3466755-d559-4709-92e9-b5252ec230f5"
      },
      "execution_count": 145,
      "outputs": [
        {
          "output_type": "execute_result",
          "data": {
            "text/plain": [
              "deque([40, 30, 20, 10, 40, 30, 20, 10, 40, 30])"
            ]
          },
          "metadata": {},
          "execution_count": 145
        }
      ]
    }
  ],
  "metadata": {
    "colab": {
      "provenance": []
    },
    "kernelspec": {
      "display_name": "Python 3",
      "name": "python3"
    },
    "language_info": {
      "name": "python"
    }
  },
  "nbformat": 4,
  "nbformat_minor": 0
}